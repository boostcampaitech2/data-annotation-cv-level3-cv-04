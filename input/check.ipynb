{
 "cells": [
  {
   "cell_type": "code",
   "execution_count": 66,
   "id": "e0c38bb5-a3af-4141-977b-5d8786988023",
   "metadata": {},
   "outputs": [],
   "source": [
    "import cv2\n",
    "import numpy as np\n",
    "import pandas as pd\n",
    "import os\n",
    "import json\n",
    "from pandas import json_normalize\n",
    "import shutil"
   ]
  },
  {
   "cell_type": "code",
   "execution_count": 67,
   "id": "558b823e-c9dc-497d-b58a-7a03ecee2291",
   "metadata": {},
   "outputs": [],
   "source": [
    "with open('data/ICDAR17_Korean/ufo/train.json', 'r', encoding='UTF8') as f:\n",
    "    merged_json_data = json.load(f)"
   ]
  },
  {
   "cell_type": "code",
   "execution_count": 68,
   "id": "f46861fc-f817-44de-95f9-30e8dbe70dac",
   "metadata": {},
   "outputs": [
    {
     "name": "stdout",
     "output_type": "stream",
     "text": [
      "1985\n"
     ]
    }
   ],
   "source": [
    "print(len(merged_json_data['images']))"
   ]
  },
  {
   "cell_type": "code",
   "execution_count": 77,
   "id": "85c13788-d56a-4406-97e8-379f84ba9e46",
   "metadata": {},
   "outputs": [],
   "source": [
    "img_lst = os.listdir('data/ICDAR17_Korean/images')"
   ]
  },
  {
   "cell_type": "code",
   "execution_count": 78,
   "id": "6866aad6-bc0e-4757-a062-1cd113dc28ff",
   "metadata": {},
   "outputs": [
    {
     "name": "stdout",
     "output_type": "stream",
     "text": [
      "536\n"
     ]
    }
   ],
   "source": [
    "print(len(img_lst))"
   ]
  },
  {
   "cell_type": "code",
   "execution_count": 71,
   "id": "10dc5c1a-499c-401e-823d-36ad954efb90",
   "metadata": {},
   "outputs": [],
   "source": [
    "with open('org_train.json', 'r', encoding='UTF8') as f:\n",
    "    org_json_data = json.load(f)"
   ]
  },
  {
   "cell_type": "code",
   "execution_count": 72,
   "id": "a8da3524-9f0a-4141-9c93-332a7bcdacbc",
   "metadata": {},
   "outputs": [
    {
     "name": "stdout",
     "output_type": "stream",
     "text": [
      "536\n"
     ]
    }
   ],
   "source": [
    "print(len(org_json_data['images']))"
   ]
  },
  {
   "cell_type": "code",
   "execution_count": 73,
   "id": "4df983c7-0a2f-498f-9d2c-1ddaaa518f63",
   "metadata": {},
   "outputs": [
    {
     "data": {
      "text/plain": [
       "{'.ipynb_checkpoints'}"
      ]
     },
     "execution_count": 73,
     "metadata": {},
     "output_type": "execute_result"
    }
   ],
   "source": [
    "set(img_lst) - set(org_json_data['images'].keys())"
   ]
  },
  {
   "cell_type": "code",
   "execution_count": 74,
   "id": "d00c2725-87c2-469b-b7b0-dcca38514b83",
   "metadata": {},
   "outputs": [
    {
     "name": "stdout",
     "output_type": "stream",
     "text": [
      "/opt/ml/input\n"
     ]
    }
   ],
   "source": [
    "!pwd"
   ]
  },
  {
   "cell_type": "code",
   "execution_count": 76,
   "id": "c0c8be76-3e33-4c40-9299-cd64d576a997",
   "metadata": {},
   "outputs": [],
   "source": [
    "!rm -rf ./data/ICDAR17_Korean/images/.ipynb_checkpoints"
   ]
  },
  {
   "cell_type": "code",
   "execution_count": null,
   "id": "f88fcd4f-7676-4276-8c8b-50332805672f",
   "metadata": {},
   "outputs": [],
   "source": []
  }
 ],
 "metadata": {
  "kernelspec": {
   "display_name": "Python 3 (ipykernel)",
   "language": "python",
   "name": "python3"
  },
  "language_info": {
   "codemirror_mode": {
    "name": "ipython",
    "version": 3
   },
   "file_extension": ".py",
   "mimetype": "text/x-python",
   "name": "python",
   "nbconvert_exporter": "python",
   "pygments_lexer": "ipython3",
   "version": "3.8.5"
  }
 },
 "nbformat": 4,
 "nbformat_minor": 5
}
