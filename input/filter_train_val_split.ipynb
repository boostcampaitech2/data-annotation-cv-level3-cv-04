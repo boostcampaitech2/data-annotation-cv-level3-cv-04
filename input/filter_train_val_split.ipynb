{
 "cells": [
  {
   "cell_type": "code",
   "execution_count": 1,
   "id": "a4b5ea90-27f5-434f-b920-4fcc1c22c6a0",
   "metadata": {},
   "outputs": [],
   "source": [
    "import cv2\n",
    "import numpy as np\n",
    "import pandas as pd\n",
    "import os\n",
    "import json\n",
    "from pandas import json_normalize\n",
    "import shutil"
   ]
  },
  {
   "cell_type": "code",
   "execution_count": 2,
   "id": "ff3aba56-f90f-48f5-bbf5-0f2511debecd",
   "metadata": {},
   "outputs": [],
   "source": [
    "with open('train.json', 'r', encoding='UTF8') as f:\n",
    "    json_data = json.load(f)"
   ]
  },
  {
   "cell_type": "code",
   "execution_count": 3,
   "id": "825f3383-48d2-4beb-96d6-9b82e5c66127",
   "metadata": {},
   "outputs": [],
   "source": [
    "img_names = list(json_data['images'].keys())"
   ]
  },
  {
   "cell_type": "code",
   "execution_count": 4,
   "id": "8417f604-fd21-4014-8a75-b37a2284595b",
   "metadata": {},
   "outputs": [
    {
     "name": "stdout",
     "output_type": "stream",
     "text": [
      "1985\n",
      "47\n"
     ]
    }
   ],
   "source": [
    "print(len(json_data['images']))\n",
    "print(len(json_data['images']['14B9AA34-3F88-40E2-A3E8-6A2ED0CAE7E1.JPG']['words']))"
   ]
  },
  {
   "cell_type": "code",
   "execution_count": 5,
   "id": "08184aae-e595-405c-a1c4-47b87593037f",
   "metadata": {},
   "outputs": [
    {
     "name": "stdout",
     "output_type": "stream",
     "text": [
      "14B9AA34-3F88-40E2-A3E8-6A2ED0CAE7E1.JPG [[935, 1112.22]]\n",
      "20210926_183304.jpg [[1136.4, 2712.76], [1518.07, 3011.1], [1159.73, 3017.76]]\n",
      "IMG_0437.jpeg [[754.5, 2753.5]]\n",
      "20210107_155715.jpg [[761.6, 2999.42]]\n",
      "20210916_201209.jpeg [[-11.5, 272.0], [88.5, 252.0], [-1.5, 692.0]]\n",
      "IMG_5316.jpeg [[1450.67, 730.67], [1512.33, 787.33], [1487.33, 805.67]]\n",
      "IMG_7423.JPG [[482.5, 1275.0], [622.5, 1247.5], [622.5, 1280.0]]\n",
      "IMG_7423.JPG [[952.5, 182.5]]\n",
      "IMG_7423.JPG [[962.5, 175.0], [960.0, 625.0], [930.0, 625.0]]\n",
      "IMG_7424.JPG [[1175, 69.17]]\n",
      "IMG_9507.jpeg [[937.0, 2163.5]]\n",
      "IMG_7226.jpeg [[1202, 21.0]]\n",
      "20210920_171407.jpg [[2984.67, 3022.33], [3018.0, 2992.33]]\n",
      "20210926_181703.jpg [[4141.0, -415.5]]\n",
      "IMG_3711.jpeg [[1923.78, 2478.82]]\n",
      "IMG_5485.jpeg [[171.0, 1724.5], [161.0, 1859.5], [91.0, 1822.0]]\n",
      "IMG_1580.jpeg [[899.33, 2278]]\n",
      "20210913_222833.jpeg [[3534.5, 3128.5]]\n",
      "IMG_6737.jpg [[1872.8, 2.4], [2016.8, 44.4], [2016.8, -1.6]]\n",
      "IMG_6973.jpeg [[2938.5, 941.75], [3018.5, 886.75], [3021.0, 2261.75]]\n",
      "KakaoTalk_Photo_2021-09-26-14-47-41 004.jpeg [[3096.0, 2702.0], [3176.0, 2702.0], [3156.0, 2777.0]]\n",
      "KakaoTalk_Photo_2021-09-26-14-47-41 004.jpeg [[3076.0, 2692.0]]\n",
      "20210918_224846.jpg [[1620.67, 2860.67]]\n",
      "20210918_225648.jpg [[1628.5, 2523.5]]\n",
      "20210926_142925.jpg [[31.0, 1143.0], [381.0, 1233.0], [41.0, 2313.0]]\n",
      "IMG_8788.jpg [[3212.0, 4382.0]]\n",
      "IMG_4350.jpg [[2134.72, 3018.33], [2171.39, 3001.67], [2185.83, 3020.56]]\n",
      "IMG_4350.jpg [[2029.17, 3020.56], [2050.28, 3011.67], [2058.06, 3022.78]]\n",
      "IMG_4350.jpg [[1672.5, 3021.67], [1695.83, 3012.78], [1699.17, 3022.78]]\n",
      "IMG_4350.jpg [[2255.83, 2272.78], [2261.39, 2260.56], [2263.61, 2283.89]]\n",
      "IMG_4350.jpg [[2244.72, 466.11], [2265.83, 450.56], [2264.72, 490.56]]\n",
      "IMG_4350.jpg [[0.28, 2822.78], [30.28, 2846.11], [1.39, 2871.67]]\n",
      "IMG_8409.jpg [[3419.5, 1387]]\n",
      "IMG_0087.jpeg [[4022.0, 6568.5]]\n",
      "IMG_5357.jpeg [[881.08, 2428.62], [898.77, 2429.38], [898.77, 2432.46]]\n",
      "20210926_122655.jpg [[6916.0, 3558.0], [6606.0, 9028.0], [6926.0, 9058.0]]\n",
      "finish\n"
     ]
    }
   ],
   "source": [
    "# 4개 이하 필터링\n",
    "\n",
    "for f_name in img_names:\n",
    "    change_words = []\n",
    "    words = list(json_data['images'][f_name]['words'].values())\n",
    "    for idx, word in enumerate(words):\n",
    "        if len(word['points']) < 4: # 삭제해주는게 좋긴한데 key 값 정렬을 위해\n",
    "            print(f_name, word['points'])\n",
    "            continue\n",
    "        else:\n",
    "            change_words.append(word)\n",
    "    if len(change_words) == 0: # 4개 미만 삭제로 인해 좌표가 없어진 경우~\n",
    "        del json_data['images'][f_name] # 이미지 삭제\n",
    "    else:\n",
    "        make_word_dict = {idx:v for idx, v in enumerate(change_words)}\n",
    "        json_data['images'][f_name]['words'] = make_word_dict\n",
    "        \n",
    "print(\"finish\")"
   ]
  },
  {
   "cell_type": "code",
   "execution_count": 6,
   "id": "6a6f75a3-c4ea-41e2-8e5b-63bae2d00a9a",
   "metadata": {},
   "outputs": [
    {
     "name": "stdout",
     "output_type": "stream",
     "text": [
      "1980\n",
      "46\n"
     ]
    }
   ],
   "source": [
    "print(len(json_data['images']))\n",
    "print(len(json_data['images']['14B9AA34-3F88-40E2-A3E8-6A2ED0CAE7E1.JPG']['words']))"
   ]
  },
  {
   "cell_type": "code",
   "execution_count": 7,
   "id": "66369492-faf8-4cec-afdb-a6da7138a4e2",
   "metadata": {},
   "outputs": [
    {
     "name": "stdout",
     "output_type": "stream",
     "text": [
      "1980 1584 396\n",
      "['20210919_165134.jpg', '20210911_130730.jpg', '20180330_103134.jpg', 'IMG_1386.jpg', 'img_1156.jpg']\n"
     ]
    }
   ],
   "source": [
    "import random\n",
    "import copy\n",
    "\n",
    "# train, test\n",
    "total_length = len(json_data['images'])\n",
    "train_length = int(total_length * 0.8)\n",
    "val_length = total_length - train_length\n",
    "print(total_length, train_length, val_length)\n",
    "\n",
    "df_images = list(json_data['images'].keys())\n",
    "select_train = random.sample(df_images, train_length) # list로 부터 80%만 뽑음\n",
    "print(select_train[:5])"
   ]
  },
  {
   "cell_type": "code",
   "execution_count": 8,
   "id": "8f78f034-878b-415b-ba32-6cac1131ba42",
   "metadata": {},
   "outputs": [
    {
     "name": "stdout",
     "output_type": "stream",
     "text": [
      "['img_4649.jpg', 'IMG_5134.jpg', 'img_4451.jpg', 'IMG_0709.jpg', 'img_4482.jpg']\n"
     ]
    }
   ],
   "source": [
    "select_val = list(set(df_images) - set(select_train))\n",
    "print(select_val[:5])"
   ]
  },
  {
   "cell_type": "code",
   "execution_count": 9,
   "id": "046f086c-3869-43e2-bdcf-40bfabddddae",
   "metadata": {},
   "outputs": [
    {
     "name": "stdout",
     "output_type": "stream",
     "text": [
      "1980 1584 396\n"
     ]
    }
   ],
   "source": [
    "print(len(df_images), len(select_train), len(select_val))"
   ]
  },
  {
   "cell_type": "code",
   "execution_count": 10,
   "id": "2dedbf66-40ef-43d9-af08-299d44eaa647",
   "metadata": {},
   "outputs": [
    {
     "name": "stdout",
     "output_type": "stream",
     "text": [
      "check 1584 1584\n"
     ]
    }
   ],
   "source": [
    "make_train = copy.deepcopy(json_data) # 깊복사\n",
    "for val in select_val:\n",
    "    del make_train['images'][val]\n",
    "\n",
    "print('check', len(select_train), len(make_train['images']))\n",
    "with open('./splited_train.json', 'w', encoding='UTF8') as make_file:\n",
    "    json.dump(make_train, make_file, indent=\"\\t\")"
   ]
  },
  {
   "cell_type": "code",
   "execution_count": 11,
   "id": "61e06cd1-0904-4833-a5ac-8affa590f870",
   "metadata": {},
   "outputs": [
    {
     "name": "stdout",
     "output_type": "stream",
     "text": [
      "check 396 396\n"
     ]
    }
   ],
   "source": [
    "make_val = copy.deepcopy(json_data) # 깊복사\n",
    "for train in select_train:\n",
    "    del make_val['images'][train]\n",
    "\n",
    "print('check', len(select_val), len(make_val['images']))\n",
    "with open('./splited_val.json', 'w', encoding='UTF8') as make_file:\n",
    "    json.dump(make_val, make_file, indent=\"\\t\")"
   ]
  },
  {
   "cell_type": "code",
   "execution_count": null,
   "id": "9c933fa5-de9c-45e2-9050-6ece0a47e97a",
   "metadata": {},
   "outputs": [],
   "source": []
  }
 ],
 "metadata": {
  "kernelspec": {
   "display_name": "Python 3 (ipykernel)",
   "language": "python",
   "name": "python3"
  },
  "language_info": {
   "codemirror_mode": {
    "name": "ipython",
    "version": 3
   },
   "file_extension": ".py",
   "mimetype": "text/x-python",
   "name": "python",
   "nbconvert_exporter": "python",
   "pygments_lexer": "ipython3",
   "version": "3.8.5"
  }
 },
 "nbformat": 4,
 "nbformat_minor": 5
}
