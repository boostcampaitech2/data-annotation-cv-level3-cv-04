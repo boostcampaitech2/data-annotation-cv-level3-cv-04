{
 "cells": [
  {
   "cell_type": "code",
   "execution_count": 1,
   "id": "e0c38bb5-a3af-4141-977b-5d8786988023",
   "metadata": {},
   "outputs": [],
   "source": [
    "import cv2\n",
    "import numpy as np\n",
    "import pandas as pd\n",
    "import os\n",
    "import json\n",
    "from pandas import json_normalize\n",
    "import shutil"
   ]
  },
  {
   "cell_type": "code",
   "execution_count": 2,
   "id": "0f4f6229-5081-48dc-9d2e-67f91ace5416",
   "metadata": {},
   "outputs": [],
   "source": [
    "with open('filtered_json.json', 'r', encoding='UTF8') as f:\n",
    "    json_data = json.load(f)"
   ]
  },
  {
   "cell_type": "code",
   "execution_count": 3,
   "id": "558b823e-c9dc-497d-b58a-7a03ecee2291",
   "metadata": {},
   "outputs": [],
   "source": [
    "with open('data/ICDAR17_Korean/ufo/train.json', 'r', encoding='UTF8') as f:\n",
    "    origin_json_data = json.load(f)"
   ]
  },
  {
   "cell_type": "code",
   "execution_count": 7,
   "id": "f46861fc-f817-44de-95f9-30e8dbe70dac",
   "metadata": {},
   "outputs": [
    {
     "name": "stdout",
     "output_type": "stream",
     "text": [
      "1449\n",
      "536\n"
     ]
    },
    {
     "data": {
      "text/plain": [
       "1985"
      ]
     },
     "execution_count": 7,
     "metadata": {},
     "output_type": "execute_result"
    }
   ],
   "source": [
    "print(len(json_data['images']))\n",
    "print(len(origin_json_data['images']))\n",
    "1449 + 536"
   ]
  },
  {
   "cell_type": "code",
   "execution_count": 8,
   "id": "85c13788-d56a-4406-97e8-379f84ba9e46",
   "metadata": {},
   "outputs": [],
   "source": [
    "json_data['images'].update(origin_json_data['images'])"
   ]
  },
  {
   "cell_type": "code",
   "execution_count": 9,
   "id": "6866aad6-bc0e-4757-a062-1cd113dc28ff",
   "metadata": {},
   "outputs": [
    {
     "name": "stdout",
     "output_type": "stream",
     "text": [
      "1985\n"
     ]
    }
   ],
   "source": [
    "print(len(json_data['images']))"
   ]
  },
  {
   "cell_type": "code",
   "execution_count": 10,
   "id": "49d99f19-5b93-4551-ac45-73d17d881000",
   "metadata": {},
   "outputs": [],
   "source": [
    "with open('./merged_json.json', 'w', encoding='UTF8') as make_file:\n",
    "    json.dump(json_data, make_file, indent=\"\\t\")"
   ]
  },
  {
   "cell_type": "code",
   "execution_count": null,
   "id": "10dc5c1a-499c-401e-823d-36ad954efb90",
   "metadata": {},
   "outputs": [],
   "source": []
  }
 ],
 "metadata": {
  "kernelspec": {
   "display_name": "Python 3 (ipykernel)",
   "language": "python",
   "name": "python3"
  },
  "language_info": {
   "codemirror_mode": {
    "name": "ipython",
    "version": 3
   },
   "file_extension": ".py",
   "mimetype": "text/x-python",
   "name": "python",
   "nbconvert_exporter": "python",
   "pygments_lexer": "ipython3",
   "version": "3.8.5"
  }
 },
 "nbformat": 4,
 "nbformat_minor": 5
}
